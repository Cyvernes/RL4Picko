{
 "cells": [
  {
   "cell_type": "markdown",
   "metadata": {},
   "source": [
    "Clément Yvernes & Samuel Bounan\n",
    "\n",
    "# Report: elaboration of an artificial Pickomino player\n",
    "\n",
    "## Part I"
   ]
  },
  {
   "cell_type": "code",
   "execution_count": 21,
   "metadata": {},
   "outputs": [],
   "source": [
    "import numpy as np\n",
    "import matplotlib.pyplot as plt\n",
    "from game import *"
   ]
  },
  {
   "cell_type": "markdown",
   "metadata": {},
   "source": [
    "### Part 1.1) Implementation"
   ]
  },
  {
   "cell_type": "markdown",
   "metadata": {},
   "source": []
  },
  {
   "cell_type": "markdown",
   "metadata": {},
   "source": [
    "### Part 1.2) Results"
   ]
  },
  {
   "cell_type": "markdown",
   "metadata": {},
   "source": [
    "Illustration of our code with throw: (1, 3, 3, 3, 4, 4, 5, W )."
   ]
  },
  {
   "cell_type": "code",
   "execution_count": 22,
   "metadata": {},
   "outputs": [
    {
     "name": "stdout",
     "output_type": "stream",
     "text": [
      "(4, 0.8289434159210631)\n"
     ]
    }
   ],
   "source": [
    "player = Player()\n",
    "initial_throw = dice2state((1, 3, 3, 3, 4, 4, 5, 0))\n",
    "print(player.strategy(initial_throw, 0, 8, 0))\n"
   ]
  },
  {
   "cell_type": "markdown",
   "metadata": {},
   "source": [
    "We can test the strategy function by estimating the true expectancy of the strategy. To do so, the following code simulates a single round for N times and computes the estimated expectancy. The experiment have been run on 10 000 000 samples (11min30s), the estimated expectancy was 1.6083139. The Central Limit Theorem tells us that we should get the correct value up to approximatively 3 digits. Therefore, it is very likely that the strategy method is correct."
   ]
  },
  {
   "cell_type": "code",
   "execution_count": 23,
   "metadata": {},
   "outputs": [
    {
     "name": "stdout",
     "output_type": "stream",
     "text": [
      "0.8352\n"
     ]
    }
   ],
   "source": [
    "player = Player()\n",
    "average_reward = 0\n",
    "N = 10000\n",
    "for idx in range(N):\n",
    "    nb_available_dice = 8\n",
    "    score = 0\n",
    "    previous_choices = 0\n",
    "    for i in range(8):\n",
    "        \"\"\"\n",
    "        print(f\"Turn {i} ----------------------------\")\n",
    "        print(\"nb_available_dice before:\", nb_available_dice)\n",
    "        print(\"score before:\", score)\n",
    "        print(\"previous_choices before:\", bin(previous_choices))\n",
    "        print(\"--\")\n",
    "        \"\"\"\n",
    "        #draw a dice\n",
    "        if i == 0:\n",
    "            dice_results = dice2state((1, 3, 3, 3, 4, 4, 5, 0))\n",
    "        else:\n",
    "            dice_results = draw_dice(nb_available_dice)\n",
    "        player_choice = player.play_dice(dice_results, previous_choices, nb_available_dice, score)\n",
    "        \"\"\"\n",
    "        print(\"dice_results: \", dice_results)\n",
    "        print(\"player_choice:\", player_choice)\n",
    "        \"\"\"\n",
    "        if player_choice is None:\n",
    "            average_reward += -player.C\n",
    "            break\n",
    "        elif player_choice == -1:\n",
    "            average_reward += player.rewardfun(score) if previous_choices % 2 == 1 else -player.C\n",
    "            break\n",
    "        else:\n",
    "            nb_available_dice -= dice_results[player_choice]\n",
    "            score += (player_choice if player_choice else 5)*dice_results[player_choice]\n",
    "            previous_choices |= 1 << player_choice\n",
    "            \"\"\"\"\n",
    "            print(\"nb_available_dice after:\", nb_available_dice)\n",
    "            print(\"score after:\", score)\n",
    "            print(\"previous_choices after:\", bin(previous_choices))\n",
    "            \"\"\"\n",
    "            if (previous_choices == 63):\n",
    "                average_reward += player.rewardfun(score)\n",
    "                break\n",
    "            elif not nb_available_dice:\n",
    "                average_reward += player.rewardfun(score) if previous_choices % 2 == 1 else -player.C\n",
    "                break      \n",
    "                \n",
    "        \n",
    "    \n",
    "    \n",
    "average_score = average_reward / N\n",
    "print(average_score)"
   ]
  },
  {
   "cell_type": "code",
   "execution_count": 24,
   "metadata": {},
   "outputs": [
    {
     "name": "stdout",
     "output_type": "stream",
     "text": [
      "0.8267\n"
     ]
    }
   ],
   "source": [
    "def collectedDices2PreviousChoices(collected_dices):\n",
    "    rep = 0\n",
    "    for dice in set(collected_dices):\n",
    "        rep |= 1 << dice\n",
    "    return(rep)\n",
    "\n",
    "def collectedDices2Previousscore(collected_dices):\n",
    "    rep = 0\n",
    "    for dice in collected_dices:\n",
    "        rep += dice if dice else 5\n",
    "    return(rep)\n",
    "\n",
    "player = Player()\n",
    "average_reward = 0\n",
    "N = 10000\n",
    "for idx in range(N):\n",
    "    nb_available_dice = 8\n",
    "    collected_dices = []\n",
    "    score = 0\n",
    "    for i in range(9):\n",
    "        #print(i)\n",
    "        #draw dices\n",
    "        if i == 0:\n",
    "            dice_results = dice2state((1, 3, 3, 3, 4, 4, 5, 0))\n",
    "        else:\n",
    "            dice_results = draw_dice(nb_available_dice)\n",
    "        #print(dice_results)\n",
    "        \n",
    "        previous_choices = collectedDices2PreviousChoices(collected_dices)\n",
    "        score = collectedDices2Previousscore(collected_dices)\n",
    "        player_choice = player.play_dice(dice_results, previous_choices, nb_available_dice, score)\n",
    "        if player_choice is None:\n",
    "            average_reward += -player.C\n",
    "            break\n",
    "        elif player_choice == -1:\n",
    "            average_reward += player.rewardfun(score) if 0 in collected_dices else -player.C\n",
    "            break\n",
    "        else:\n",
    "            nb_available_dice -= dice_results[player_choice]\n",
    "            # add selected dices to collected dices\n",
    "            collected_dices += [player_choice]*dice_results[player_choice]\n",
    "    #print(\"collected_dices\", collected_dices, score)\n",
    "\n",
    "    \n",
    "average_score = average_reward / N\n",
    "print(average_score)"
   ]
  },
  {
   "cell_type": "code",
   "execution_count": null,
   "metadata": {},
   "outputs": [],
   "source": []
  },
  {
   "cell_type": "markdown",
   "metadata": {},
   "source": [
    "Thus the strategy chooses to take the two 4s, with an expected reward of ~1.6 pickominos. If we change the `C` value, the strategy will be different, and could pick other dice."
   ]
  },
  {
   "cell_type": "code",
   "execution_count": 25,
   "metadata": {},
   "outputs": [
    {
     "name": "stdout",
     "output_type": "stream",
     "text": [
      "(4, -0.5110454755081502)\n"
     ]
    }
   ],
   "source": [
    "player.set_C(3)\n",
    "initial_throw = dice2state((1, 3, 3, 3, 4, 4, 5, 0))\n",
    "print(player.strategy(initial_throw, 0, 8, 0))"
   ]
  },
  {
   "cell_type": "markdown",
   "metadata": {},
   "source": [
    "Indeed we see that if the strategy still picks 4s, the expected reward has changed. It is now ~1.1.\n",
    "\n",
    "One can also compute the maximal probability of obtaining a Pickomino with `i` or more pickominos: by putting the reward of obtaining a pickomino with `i` or more pickominos to 1 and the other to 0, the expected reward will directly be the probability we want."
   ]
  },
  {
   "cell_type": "code",
   "execution_count": 26,
   "metadata": {},
   "outputs": [
    {
     "name": "stdout",
     "output_type": "stream",
     "text": [
      "Proba to have 1 or more pickominos: 0.69\n",
      "Proba to have 2 or more pickominos: 0.43\n",
      "Proba to have 3 or more pickominos: 0.21\n",
      "Proba to have 4 or more pickominos: 0.07\n"
     ]
    }
   ],
   "source": [
    "player = Player()\n",
    "player.set_C(0)\n",
    "basic_r = [1, 1, 1, 1, 2, 2, 2, 2, 3, 3, 3, 3, 4, 4, 4, 4]\n",
    "\n",
    "for i in range(1, 5):\n",
    "    reward_vec = [r >= i for r in basic_r]\n",
    "    player.set_r(reward_vec)\n",
    "    print(f\"Proba to have {i} or more pickominos: {player.expectancy(0,8,0):.2f}\")"
   ]
  },
  {
   "cell_type": "markdown",
   "metadata": {},
   "source": [
    "We can use the same idea of modifying the reward vector to compute the maximal probability of obtaining exactly Tile 24. However, we can't use PLayer class to do so. Indeed, a PLayer will take the best tile available under its score. To compute this quantity, we need a player that picks the tile corresponding to its score. This as been implemented by the Player_select_Tile_equal_score class."
   ]
  },
  {
   "cell_type": "code",
   "execution_count": 27,
   "metadata": {},
   "outputs": [
    {
     "name": "stdout",
     "output_type": "stream",
     "text": [
      "0.24658730831893289\n"
     ]
    }
   ],
   "source": [
    "player_designed_for_this_question = Player_select_Tile_equal_score()\n",
    "player_designed_for_this_question.set_r([0,0,0,1,0,0,0,0,0,0,0,0,0,0,0,0])\n",
    "print(player_designed_for_this_question.expectancy(0,8,0))"
   ]
  },
  {
   "cell_type": "markdown",
   "metadata": {},
   "source": [
    "We can compute the maximum probability of obtaining exactly each tile:"
   ]
  },
  {
   "cell_type": "code",
   "execution_count": 28,
   "metadata": {},
   "outputs": [
    {
     "data": {
      "image/png": "[encoded data removed]",
      "text/plain": [
       "<Figure size 640x480 with 1 Axes>"
      ]
     },
     "metadata": {},
     "output_type": "display_data"
    }
   ],
   "source": [
    "player_designed_for_this_question = Player_select_Tile_equal_score()\n",
    "\n",
    "basic_r = [0]*16\n",
    "tiles = []\n",
    "maximum_probability = []\n",
    "for i in range(16):\n",
    "    temp = basic_r.copy()\n",
    "    temp[i] = 1\n",
    "    player_designed_for_this_question.set_r(temp)\n",
    "    tiles.append(21 + i)\n",
    "    maximum_probability.append(player_designed_for_this_question.expectancy(0,8,0))\n",
    "    \n",
    "plt.plot(tiles, maximum_probability, label=\"Maximum probability to reach the desired tile\")\n",
    "plt.xlabel(\"Tiles\")\n",
    "plt.ylabel(\"Probability\")\n",
    "plt.show()"
   ]
  },
  {
   "cell_type": "markdown",
   "metadata": {},
   "source": [
    "... or Tile 27 or higher"
   ]
  },
  {
   "cell_type": "code",
   "execution_count": 29,
   "metadata": {},
   "outputs": [
    {
     "name": "stdout",
     "output_type": "stream",
     "text": [
      "0.31024800694099924\n"
     ]
    }
   ],
   "source": [
    "player.set_r([0,0,0,0,0,0,1,1,1,1,1,1,1,1,1,1])\n",
    "print(player.expectancy(0,8,0))"
   ]
  },
  {
   "cell_type": "markdown",
   "metadata": {},
   "source": [
    "We can compute this quantity for any score from 21 to 36"
   ]
  },
  {
   "cell_type": "code",
   "execution_count": 30,
   "metadata": {},
   "outputs": [
    {
     "data": {
      "image/png": "[encoded data removed]",
      "text/plain": [
       "<Figure size 640x480 with 1 Axes>"
      ]
     },
     "metadata": {},
     "output_type": "display_data"
    }
   ],
   "source": [
    "temp = [1]*16\n",
    "tiles = []\n",
    "probability = []\n",
    "for i in range(16):\n",
    "    if i:\n",
    "        temp[i-1] = 0\n",
    "    player.set_r(temp)\n",
    "    tiles.append(21 + i)\n",
    "    probability.append(player.expectancy(0,8,0))\n",
    "    \n",
    "plt.plot(tiles, probability, label=\"Probability to reach the desired tile or higher\")\n",
    "plt.xlabel(\"Tiles\")\n",
    "plt.ylabel(\"Probability\")\n",
    "plt.show()"
   ]
  },
  {
   "cell_type": "markdown",
   "metadata": {},
   "source": [
    "## Part II\n",
    "\n"
   ]
  }
 ],
 "metadata": {
  "kernelspec": {
   "display_name": "Python 3",
   "language": "python",
   "name": "python3"
  },
  "language_info": {
   "codemirror_mode": {
    "name": "ipython",
    "version": 3
   },
   "file_extension": ".py",
   "mimetype": "text/x-python",
   "name": "python",
   "nbconvert_exporter": "python",
   "pygments_lexer": "ipython3",
   "version": "3.11.0"
  }
 },
 "nbformat": 4,
 "nbformat_minor": 2
}
