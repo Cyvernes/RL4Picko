{
 "cells": [
  {
   "cell_type": "markdown",
   "metadata": {},
   "source": [
    "Clément Yvernes & Samuel Bounan\n",
    "\n",
    "# Report: elaboration of an artificial Pickomino player\n",
    "\n",
    "## Part I"
   ]
  },
  {
   "cell_type": "code",
   "execution_count": 2,
   "metadata": {},
   "outputs": [],
   "source": [
    "from game import *"
   ]
  },
  {
   "cell_type": "markdown",
   "metadata": {},
   "source": [
    "Illustration of our code with throw: (1, 3, 3, 3, 4, 4, 5, W )."
   ]
  },
  {
   "cell_type": "code",
   "execution_count": 6,
   "metadata": {},
   "outputs": [
    {
     "name": "stdout",
     "output_type": "stream",
     "text": [
      "(4, 1.6086173088544293)\n"
     ]
    }
   ],
   "source": [
    "player = Player()\n",
    "initial_throw = dice2state((1, 3, 3, 3, 4, 4, 5, 0))\n",
    "print(player.strategy(initial_throw, 0, 8, 0))"
   ]
  },
  {
   "cell_type": "markdown",
   "metadata": {},
   "source": [
    "Thus the strategy chooses to take the two 4s, with an expected reward of ~1.6 pickominos. If we change the `C` value, the strategy will be different, and could pick other dice."
   ]
  },
  {
   "cell_type": "code",
   "execution_count": 7,
   "metadata": {},
   "outputs": [
    {
     "name": "stdout",
     "output_type": "stream",
     "text": [
      "(4, 1.0726236134482308)\n"
     ]
    }
   ],
   "source": [
    "player.set_C(3)\n",
    "initial_throw = dice2state((1, 3, 3, 3, 4, 4, 5, 0))\n",
    "print(player.strategy(initial_throw, 0, 8, 0))"
   ]
  },
  {
   "cell_type": "markdown",
   "metadata": {},
   "source": [
    "Indeed we see that if the strategy still picks 4s, the expected reward has changed. It is now ~1.1.\n",
    "\n",
    "One can also compute the maximal probability of obtaining a Pickomino with `i` or more pickominos: by putting the reward of obtaining a pickomino with `i` or more pickominos to 1 and the other to 0, the expected reward will directly be the probability we want."
   ]
  },
  {
   "cell_type": "code",
   "execution_count": 12,
   "metadata": {},
   "outputs": [
    {
     "name": "stdout",
     "output_type": "stream",
     "text": [
      "proba to have 1 or more pickominos: 0.89\n",
      "proba to have 2 or more pickominos: 0.68\n",
      "proba to have 3 or more pickominos: 0.35\n",
      "proba to have 4 or more pickominos: 0.09\n"
     ]
    }
   ],
   "source": [
    "player.set_C(0)\n",
    "\n",
    "n_dominos = 16\n",
    "n_rewards = 4\n",
    "size_reward = int(n_dominos/n_rewards)\n",
    "\n",
    "reward_vec = [1]*n_dominos\n",
    "\n",
    "for i in range(n_rewards):\n",
    "    for k in range(0,i*size_reward):\n",
    "        reward_vec[k] = 0\n",
    "    player.set_r(reward_vec)\n",
    "    print(f\"proba to have {i+1} or more pickominos: {player.expectancy(0,8,0):.2f}\")"
   ]
  },
  {
   "cell_type": "markdown",
   "metadata": {},
   "source": [
    "We can use the same idea of modifying the reward vector to compute the maximal probability of obtaining exactly Tile 24"
   ]
  },
  {
   "cell_type": "code",
   "execution_count": 13,
   "metadata": {},
   "outputs": [
    {
     "name": "stdout",
     "output_type": "stream",
     "text": [
      "0.7483733338698341\n"
     ]
    }
   ],
   "source": [
    "player.set_r([0,0,0,1,0,0,0,0,0,0,0,0,0,0,0,0])\n",
    "print(player.expectancy(0,8,0))"
   ]
  },
  {
   "cell_type": "markdown",
   "metadata": {},
   "source": [
    "... or Tile 27 or higher"
   ]
  },
  {
   "cell_type": "code",
   "execution_count": 14,
   "metadata": {},
   "outputs": [
    {
     "name": "stdout",
     "output_type": "stream",
     "text": [
      "0.5247594468429357\n"
     ]
    }
   ],
   "source": [
    "player.set_r([0,0,0,0,0,0,1,1,1,1,1,1,1,1,1,1])\n",
    "print(player.expectancy(0,8,0))"
   ]
  },
  {
   "cell_type": "markdown",
   "metadata": {},
   "source": [
    "## Part II\n",
    "\n"
   ]
  }
 ],
 "metadata": {
  "kernelspec": {
   "display_name": "Python 3",
   "language": "python",
   "name": "python3"
  },
  "language_info": {
   "codemirror_mode": {
    "name": "ipython",
    "version": 3
   },
   "file_extension": ".py",
   "mimetype": "text/x-python",
   "name": "python",
   "nbconvert_exporter": "python",
   "pygments_lexer": "ipython3",
   "version": "3.11.4"
  }
 },
 "nbformat": 4,
 "nbformat_minor": 2
}
