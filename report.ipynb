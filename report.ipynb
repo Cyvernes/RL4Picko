{
 "cells": [
  {
   "cell_type": "markdown",
   "metadata": {},
   "source": [
    "Clément Yvernes & Samuel Bounan\n",
    "\n",
    "# Report: elaboration of an artificial Pickomino player\n",
    "\n",
    "## Part I"
   ]
  },
  {
   "cell_type": "code",
   "execution_count": 1,
   "metadata": {},
   "outputs": [],
   "source": [
    "import numpy as np\n",
    "import matplotlib.pyplot as plt\n",
    "from game import *"
   ]
  },
  {
   "cell_type": "markdown",
   "metadata": {},
   "source": [
    "### Part 1.1) Implementation"
   ]
  },
  {
   "cell_type": "markdown",
   "metadata": {},
   "source": [
    "#### Part 1.1.1) Implementation of the one turn game\n",
    "\n",
    "The full implementation is available in the Player class of players.py.\n",
    "\n",
    "The \"W\" result of a dice have been represented by a 0.\n",
    "\n",
    "An important precaution has been taken to speed up the calculations:\n",
    "\n",
    "The previous choices have been implemented on a single bit. All operations are performed by very fast bitwise operations.\n",
    "\n",
    "The function that calculates the strategy has been separated from the function that calculates the expected gain of a state. By memoizing these functions, the complete calculation of the strategy for a given reward vector takes less than two tenths of a second.\n",
    "\n"
   ]
  },
  {
   "cell_type": "markdown",
   "metadata": {},
   "source": [
    "#### Part 1.1.2) Tests"
   ]
  },
  {
   "cell_type": "markdown",
   "metadata": {},
   "source": [
    "We can test the strategy function by estimating the true expectancy of the strategy. To do so, the following code simulates a single round for N times and computes the estimated expectancy. The experiment have been run on 10 000 000 samples (~ 11 min), the estimated expectancy was 1.6447063. The player's expectancy method computes an expectancy of 1.6447296740400978.  The Central Limit Theorem tells us that we should get the correct value up to approximatively 3 digits.Therefore, it is very likely that the strategy method is correct."
   ]
  },
  {
   "cell_type": "code",
   "execution_count": 2,
   "metadata": {},
   "outputs": [
    {
     "name": "stdout",
     "output_type": "stream",
     "text": [
      "player's expectancy: 1.6447296740400978\n"
     ]
    }
   ],
   "source": [
    "player = Player()\n",
    "print(\"player's expectancy:\", player.expectancy(0, 8, 0))"
   ]
  },
  {
   "cell_type": "code",
   "execution_count": 3,
   "metadata": {},
   "outputs": [
    {
     "name": "stdout",
     "output_type": "stream",
     "text": [
      "Estimated expectancy of reward: 1.64571\n"
     ]
    }
   ],
   "source": [
    "average_reward = 0\n",
    "N = 100000\n",
    "for idx in range(N):\n",
    "    nb_available_dice = 8\n",
    "    score = 0\n",
    "    previous_choices = 0\n",
    "    for i in range(8): # At each turn, the number of dice is decreased by at least one (or the round is stopped). Thus we do at most 8 turns.\n",
    "        # Draw the dice\n",
    "        dice_results = draw_dice(nb_available_dice)\n",
    "        \n",
    "        # Send the result to the play and let them chose what to do\n",
    "        player_choice = player.play_dice(dice_results, previous_choices, nb_available_dice, score)\n",
    "\n",
    "        if player_choice is None:# The Player can't choose, the round is failed\n",
    "            average_reward += -player.C\n",
    "            break\n",
    "        else:\n",
    "            score += (player_choice[0] if player_choice[0] else 5)*dice_results[player_choice[0]]\n",
    "            previous_choices |= 1 << player_choice[0]\n",
    "            if player_choice[1]:# Player decides to continue\n",
    "                nb_available_dice -= dice_results[player_choice[0]]\n",
    "                continue\n",
    "            else:# player decides to stop\n",
    "                average_reward += player.rewardfun(score, previous_choices) \n",
    "                break\n",
    "\n",
    "         \n",
    "average_score = average_reward / N\n",
    "print(\"Estimated expectancy of reward:\", average_score)"
   ]
  },
  {
   "cell_type": "markdown",
   "metadata": {},
   "source": [
    "### Part 1.2) Results"
   ]
  },
  {
   "cell_type": "markdown",
   "metadata": {},
   "source": [
    "Illustration of our code with throw: (1, 3, 3, 3, 4, 4, 5, W )."
   ]
  },
  {
   "cell_type": "code",
   "execution_count": 4,
   "metadata": {},
   "outputs": [
    {
     "name": "stdout",
     "output_type": "stream",
     "text": [
      "((4, 1), 1.384705294524559)\n"
     ]
    }
   ],
   "source": [
    "player = Player()\n",
    "initial_throw = dice2state((1, 3, 3, 3, 4, 4, 5, 0))\n",
    "print(player.strategy(initial_throw, 0, 8, 0))\n"
   ]
  },
  {
   "cell_type": "markdown",
   "metadata": {},
   "source": [
    "Thus the strategy chooses to take the two 4s, with an expected reward of ~1.3847 pickominos. If we change the `C` value, the same dice is chosen but the expected reward is now different."
   ]
  },
  {
   "cell_type": "code",
   "execution_count": 5,
   "metadata": {},
   "outputs": [
    {
     "name": "stdout",
     "output_type": "stream",
     "text": [
      "((4, 1), 0.6866167395787997)\n"
     ]
    }
   ],
   "source": [
    "player.set_C(3)\n",
    "initial_throw = dice2state((1, 3, 3, 3, 4, 4, 5, 0))\n",
    "print(player.strategy(initial_throw, 0, 8, 0))"
   ]
  },
  {
   "cell_type": "markdown",
   "metadata": {},
   "source": [
    "One can also compute the maximal probability of obtaining a Pickomino with `i` or more pickominos: by putting the reward of obtaining a pickomino with `i` or more pickominos to 1 and the other to 0, the expected reward will directly be the probability we want."
   ]
  },
  {
   "cell_type": "code",
   "execution_count": 6,
   "metadata": {},
   "outputs": [
    {
     "name": "stdout",
     "output_type": "stream",
     "text": [
      "Proba to have 1 or more pickominos: 0.89\n",
      "Proba to have 2 or more pickominos: 0.68\n",
      "Proba to have 3 or more pickominos: 0.35\n",
      "Proba to have 4 or more pickominos: 0.09\n"
     ]
    }
   ],
   "source": [
    "player = Player()\n",
    "player.set_C(0)\n",
    "basic_r = [1, 1, 1, 1, 2, 2, 2, 2, 3, 3, 3, 3, 4, 4, 4, 4]\n",
    "\n",
    "for i in range(1, 5):\n",
    "    reward_vec = [r >= i for r in basic_r]\n",
    "    player.set_r(reward_vec)\n",
    "    print(f\"Proba to have {i} or more pickominos: {player.expectancy(0,8,0):.2f}\")"
   ]
  },
  {
   "cell_type": "markdown",
   "metadata": {},
   "source": [
    "We can use the same idea of modifying the reward vector to compute the maximal probability of obtaining exactly Tile 24. However, we can't use PLayer class to do so. Indeed, a PLayer will take the best tile available under its score. To compute this quantity, we need a player that picks the tile corresponding to its score. This as been implemented by the Player_select_Tile_equal_score class."
   ]
  },
  {
   "cell_type": "code",
   "execution_count": 7,
   "metadata": {},
   "outputs": [
    {
     "name": "stdout",
     "output_type": "stream",
     "text": [
      "0.3750601883516782\n"
     ]
    }
   ],
   "source": [
    "player_designed_for_this_question = Player_select_Tile_equal_score()\n",
    "player_designed_for_this_question.set_r([0,0,0,1,0,0,0,0,0,0,0,0,0,0,0,0])\n",
    "print(player_designed_for_this_question.expectancy(0,8,0))"
   ]
  },
  {
   "cell_type": "markdown",
   "metadata": {},
   "source": [
    "We can compute the maximum probability of obtaining exactly each tile:"
   ]
  },
  {
   "cell_type": "code",
   "execution_count": 8,
   "metadata": {},
   "outputs": [
    {
     "data": {
      "image/png": "[encoded data removed]",
      "text/plain": [
       "<Figure size 640x480 with 1 Axes>"
      ]
     },
     "metadata": {},
     "output_type": "display_data"
    }
   ],
   "source": [
    "player_designed_for_this_question = Player_select_Tile_equal_score()\n",
    "\n",
    "basic_r = [0]*16\n",
    "tiles = []\n",
    "maximum_probability = []\n",
    "for i in range(16):\n",
    "    temp = basic_r.copy()\n",
    "    temp[i] = 1\n",
    "    player_designed_for_this_question.set_r(temp)\n",
    "    tiles.append(21 + i)\n",
    "    maximum_probability.append(player_designed_for_this_question.expectancy(0,8,0))\n",
    "    \n",
    "plt.plot(tiles, maximum_probability, label=\"Maximum probability to reach the desired tile\")\n",
    "plt.xlabel(\"Tiles\")\n",
    "plt.ylabel(\"Probability\")\n",
    "plt.show()"
   ]
  },
  {
   "cell_type": "markdown",
   "metadata": {},
   "source": [
    "... or Tile 27 or higher"
   ]
  },
  {
   "cell_type": "code",
   "execution_count": 9,
   "metadata": {},
   "outputs": [
    {
     "name": "stdout",
     "output_type": "stream",
     "text": [
      "0.5247594468429357\n"
     ]
    }
   ],
   "source": [
    "player.set_r([0,0,0,0,0,0,1,1,1,1,1,1,1,1,1,1])\n",
    "print(player.expectancy(0,8,0))"
   ]
  },
  {
   "cell_type": "markdown",
   "metadata": {},
   "source": [
    "We can compute this quantity for any score from 21 to 36"
   ]
  },
  {
   "cell_type": "code",
   "execution_count": 10,
   "metadata": {},
   "outputs": [
    {
     "data": {
      "image/png": "[encoded data removed]",
      "text/plain": [
       "<Figure size 640x480 with 1 Axes>"
      ]
     },
     "metadata": {},
     "output_type": "display_data"
    }
   ],
   "source": [
    "temp = [1]*16\n",
    "tiles = []\n",
    "probability = []\n",
    "for i in range(16):\n",
    "    if i:\n",
    "        temp[i-1] = 0\n",
    "    player.set_r(temp)\n",
    "    tiles.append(21 + i)\n",
    "    probability.append(player.expectancy(0,8,0))\n",
    "    \n",
    "plt.plot(tiles, probability, label=\"Probability to reach the desired tile or higher\")\n",
    "plt.xlabel(\"Tiles\")\n",
    "plt.ylabel(\"Probability\")\n",
    "plt.show()"
   ]
  },
  {
   "cell_type": "markdown",
   "metadata": {},
   "source": [
    "## Part II\n",
    "\n"
   ]
  }
 ],
 "metadata": {
  "kernelspec": {
   "display_name": "Python 3",
   "language": "python",
   "name": "python3"
  },
  "language_info": {
   "codemirror_mode": {
    "name": "ipython",
    "version": 3
   },
   "file_extension": ".py",
   "mimetype": "text/x-python",
   "name": "python",
   "nbconvert_exporter": "python",
   "pygments_lexer": "ipython3",
   "version": "3.11.0"
  }
 },
 "nbformat": 4,
 "nbformat_minor": 2
}
